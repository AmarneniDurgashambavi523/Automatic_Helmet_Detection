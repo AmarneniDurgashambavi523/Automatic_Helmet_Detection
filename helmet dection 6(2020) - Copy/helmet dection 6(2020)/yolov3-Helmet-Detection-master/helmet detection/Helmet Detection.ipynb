{
 "cells": [
  {
   "cell_type": "markdown",
   "metadata": {},
   "source": [
    "# Import libraries"
   ]
  },
  {
   "cell_type": "code",
   "execution_count": 1,
   "metadata": {},
   "outputs": [],
   "source": [
    "from time import sleep\n",
    "import cv2 as cv\n",
    "import argparse\n",
    "import sys\n",
    "import numpy as np\n",
    "import os.path\n",
    "from glob import glob\n",
    "import os\n",
    "import cv2\n",
    "\n",
    "\n",
    "#from PIL import image\n",
    "frame_count = 0             # used in mainloop  where we're extracting images., and then to drawPred( called by post process)\n",
    "frame_count_out=0           # used in post process loop, to get the no of specified class value.\n",
    "# Initialize the parameters\n",
    "confThreshold = 0.6  #Confidence threshold\n",
    "nmsThreshold = 0.4   #Non-maximum suppression threshold\n",
    "inpWidth = 416       #Width of network's input image\n",
    "inpHeight = 416      #Height of network's input image\n"
   ]
  },
  {
   "cell_type": "markdown",
   "metadata": {},
   "source": [
    "# Load the model"
   ]
  },
  {
   "cell_type": "code",
   "execution_count": 2,
   "metadata": {},
   "outputs": [],
   "source": [
    "# Load names of classes\n",
    "classesFile = \"obj.names\";\n",
    "classes = None\n",
    "with open(classesFile, 'rt') as f:\n",
    "    classes = f.read().rstrip('\\n').split('\\n')\n",
    "\n"
   ]
  },
  {
   "cell_type": "code",
   "execution_count": 3,
   "metadata": {},
   "outputs": [],
   "source": [
    "# Give the configuration and weight files for the model and load the network using them.\n",
    "modelConfiguration = \"yolov3-obj.cfg\";\n",
    "modelWeights = \"yolov3-obj_2400.weights\";\n",
    "\n",
    "net = cv.dnn.readNetFromDarknet(modelConfiguration, modelWeights)\n",
    "net.setPreferableBackend(cv.dnn.DNN_BACKEND_OPENCV)\n",
    "net.setPreferableTarget(cv.dnn.DNN_TARGET_CPU)\n",
    "\n"
   ]
  },
  {
   "cell_type": "code",
   "execution_count": 4,
   "metadata": {},
   "outputs": [],
   "source": [
    "# Get the names of the output layers\n",
    "def getOutputsNames(net):\n",
    "    # Get the names of all the layers in the network\n",
    "    layersNames = net.getLayerNames()\n",
    "    # Get the names of the output layers, i.e. the layers with unconnected outputs\n",
    "    return [layersNames[i[0] - 1] for i in net.getUnconnectedOutLayers()]\n",
    "\n",
    "\n"
   ]
  },
  {
   "cell_type": "code",
   "execution_count": 5,
   "metadata": {},
   "outputs": [],
   "source": [
    "# Draw the predicted bounding box\n",
    "def drawPred(classId, conf, left, top, right, bottom):\n",
    "\n",
    "    global frame_count\n",
    "# Draw a bounding box.\n",
    "    cv.rectangle(frame, (left, top), (right, bottom), (255, 178, 50), 3)\n",
    "    label = '%.2f' % conf\n",
    "    # Get the label for the class name and its confidence\n",
    "    if classes:\n",
    "        assert(classId < len(classes))\n",
    "        label = '%s:%s' % (classes[classId], label)\n",
    "\n",
    "    #Display the label at the top of the bounding box\n",
    "    labelSize, baseLine = cv.getTextSize(label, cv.FONT_HERSHEY_SIMPLEX, 0.5, 1)\n",
    "    top = max(top, labelSize[1])\n",
    "    #print(label)            #testing\n",
    "    #print(labelSize)        #testing\n",
    "    #print(baseLine)         #testing\n",
    "\n",
    "    label_name,label_conf = label.split(':')    #spliting into class & confidance. will compare it with person.\n",
    "    if label_name == 'Helmet':\n",
    "                                            #will try to print of label have people.. or can put a counter to find the no of people occurance.\n",
    "                                        #will try if it satisfy the condition otherwise, we won't print the boxes or leave it.\n",
    "        cv.rectangle(frame, (left, top - round(1.5*labelSize[1])), (left + round(1.5*labelSize[0]), top + baseLine), (255, 255, 255), cv.FILLED)\n",
    "        cv.putText(frame, label, (left, top), cv.FONT_HERSHEY_SIMPLEX, 0.75, (0,0,0), 1)\n",
    "        frame_count+=1\n",
    "\n",
    "\n",
    "    print(frame_count)\n",
    "    if(frame_count> 0):\n",
    "        return frame_count\n",
    "\n",
    "\n",
    "\n",
    "\n"
   ]
  },
  {
   "cell_type": "code",
   "execution_count": 6,
   "metadata": {},
   "outputs": [
    {
     "name": "stdout",
     "output_type": "stream",
     "text": [
      "1\n",
      "1\n",
      "1\n",
      "1\n",
      "1\n",
      "1\n",
      "2\n",
      "3\n",
      "4\n",
      "5\n",
      "1\n",
      "2\n",
      "1\n",
      "1\n",
      "1\n",
      "2\n"
     ]
    }
   ],
   "source": [
    "# Remove the bounding boxes with low confidence using non-maxima suppression\n",
    "def postprocess(frame, outs):\n",
    "    frameHeight = frame.shape[0]\n",
    "    frameWidth = frame.shape[1]\n",
    "    global frame_count_out\n",
    "    frame_count_out=0\n",
    "    classIds = []\n",
    "    confidences = []\n",
    "    boxes = []\n",
    "    # Scan through all the bounding boxes output from the network and keep only the\n",
    "    # ones with high confidence scores. Assign the box's class label as the class with the highest score.\n",
    "    classIds = []               #have to fins which class have hieghest confidence........=====>>><<<<=======\n",
    "    confidences = []\n",
    "    boxes = []\n",
    "    for out in outs:\n",
    "        for detection in out:\n",
    "            scores = detection[5:]\n",
    "            classId = np.argmax(scores)\n",
    "            confidence = scores[classId]\n",
    "            if confidence > confThreshold:\n",
    "                center_x = int(detection[0] * frameWidth)\n",
    "                center_y = int(detection[1] * frameHeight)\n",
    "                width = int(detection[2] * frameWidth)\n",
    "                height = int(detection[3] * frameHeight)\n",
    "                left = int(center_x - width / 2)\n",
    "                top = int(center_y - height / 2)\n",
    "                classIds.append(classId)\n",
    "                #print(classIds)\n",
    "                confidences.append(float(confidence))\n",
    "                boxes.append([left, top, width, height])\n",
    "\n",
    "    # Perform non maximum suppression to eliminate redundant overlapping boxes with\n",
    "    # lower confidences.\n",
    "    indices = cv.dnn.NMSBoxes(boxes, confidences, confThreshold, nmsThreshold)\n",
    "    count_person=0 # for counting the classes in this loop.\n",
    "    for i in indices:\n",
    "        i = i[0]\n",
    "        box = boxes[i]\n",
    "        left = box[0]\n",
    "        top = box[1]\n",
    "        width = box[2]\n",
    "        height = box[3]\n",
    "               #this function in  loop is calling drawPred so, try pushing one test counter in parameter , so it can calculate it.\n",
    "        frame_count_out = drawPred(classIds[i], confidences[i], left, top, left + width, top + height)\n",
    "         #increase test counter till the loop end then print...\n",
    "\n",
    "        #checking class, if it is a person or not\n",
    "\n",
    "        my_class='Helmet'                   #======================================== mycode .....\n",
    "        unknown_class = classes[classId]\n",
    "\n",
    "        if my_class == unknown_class:\n",
    "            count_person += 1\n",
    "    #if(frame_count_out > 0):\n",
    "    #print(frame_count_out)\n",
    "\n",
    "\n",
    "    if count_person >= 1:\n",
    "        path = 'test_out/'\n",
    "        frame_name=os.path.basename(fn)             # trimm the path and give file name.\n",
    "        cv.imwrite(str(path)+frame_name, frame)     # writing to folder.\n",
    "        #print(type(frame))\n",
    "        cv.imshow('img',frame)\n",
    "        cv.waitKey(800)\n",
    "\n",
    "\n",
    "    #cv.imwrite(frame_name, frame)\n",
    "                                               #======================================mycode.........\n",
    "\n",
    "# Process inputs\n",
    "winName = 'Deep learning object detection in OpenCV'\n",
    "cv.namedWindow(winName, cv.WINDOW_NORMAL)\n",
    "\n",
    "\n",
    "\n",
    "for fn in glob('images1/*.jpg'):\n",
    "    frame = cv.imread(fn)\n",
    "    frame_count =0\n",
    "\n",
    "    # Create a 4D blob from a frame.\n",
    "    blob = cv.dnn.blobFromImage(frame, 1/255, (inpWidth, inpHeight), [0,0,0], 1, crop=False)\n",
    "\n",
    "    # Sets the input to the network\n",
    "    net.setInput(blob)\n",
    "\n",
    "    # Runs the forward pass to get output of the output layers\n",
    "    outs = net.forward(getOutputsNames(net))\n",
    "\n",
    "    # Remove the bounding boxes with low confidence\n",
    "    postprocess(frame, outs)\n",
    "\n",
    "    # Put efficiency information. The function getPerfProfile returns the overall time for inference(t) and the timings for each of the layers(in layersTimes)\n",
    "    t, _ = net.getPerfProfile()\n",
    "    #print(t)\n",
    "    label = 'Inference time: %.2f ms' % (t * 1000.0 / cv.getTickFrequency())\n",
    "    #print(label)\n",
    "    cv.putText(frame, label, (0, 15), cv.FONT_HERSHEY_SIMPLEX, 0.5, (0, 0, 255))\n",
    "    #print(label)\n"
   ]
  },
  {
   "cell_type": "markdown",
   "metadata": {},
   "source": [
    "# Storing all the images "
   ]
  },
  {
   "cell_type": "code",
   "execution_count": 7,
   "metadata": {},
   "outputs": [],
   "source": [
    "import glob\n",
    "img_dir = \"C:\\\\Users\\\\user 8\\\\Desktop\\\\OWN REQUIREMENTS\\\\Helmet detection\\\\yolov3-Helmet-Detection-master\\\\yolov3-Helmet-Detection-master\\\\images1\\\\\" # Enter Directory of all images \n",
    "data_path = os.path.join(img_dir,'*g')\n",
    "all_files = glob.glob(data_path)"
   ]
  },
  {
   "cell_type": "code",
   "execution_count": 8,
   "metadata": {},
   "outputs": [
    {
     "data": {
      "text/plain": [
       "0"
      ]
     },
     "execution_count": 8,
     "metadata": {},
     "output_type": "execute_result"
    }
   ],
   "source": [
    "len(all_files)"
   ]
  },
  {
   "cell_type": "code",
   "execution_count": 9,
   "metadata": {},
   "outputs": [
    {
     "data": {
      "text/plain": [
       "[]"
      ]
     },
     "execution_count": 9,
     "metadata": {},
     "output_type": "execute_result"
    }
   ],
   "source": [
    "all_files"
   ]
  },
  {
   "cell_type": "markdown",
   "metadata": {},
   "source": [
    "# Extracting the images name only"
   ]
  },
  {
   "cell_type": "code",
   "execution_count": 10,
   "metadata": {},
   "outputs": [],
   "source": [
    "img_dir_input = \"C:\\\\Users\\\\user 8\\\\Desktop\\\\OWN REQUIREMENTS\\\\Helmet detection\\\\yolov3-Helmet-Detection-master\\\\yolov3-Helmet-Detection-master\\\\images1\\\\\" # Enter Directory of all images \n",
    "images = [file for file in glob.glob(img_dir_input+'*.jpg')]\n",
    "img_name = []\n",
    "for i in range(len(images)):\n",
    "    a = images[i]\n",
    "    b = a.split('\\\\')\n",
    "    img_name.append(b[-1])"
   ]
  },
  {
   "cell_type": "code",
   "execution_count": 11,
   "metadata": {},
   "outputs": [
    {
     "data": {
      "text/plain": [
       "[]"
      ]
     },
     "execution_count": 11,
     "metadata": {},
     "output_type": "execute_result"
    }
   ],
   "source": [
    "img_name"
   ]
  },
  {
   "cell_type": "code",
   "execution_count": 12,
   "metadata": {},
   "outputs": [],
   "source": [
    "img_dir_out = \"C:\\\\Users\\\\user 8\\\\Desktop\\\\OWN REQUIREMENTS\\\\Helmet detection\\\\yolov3-Helmet-Detection-master\\\\yolov3-Helmet-Detection-master\\\\test_out\\\\\" # Enter Directory of all images \n",
    "images_out = [file for file in glob.glob(img_dir_out+'*.jpg')]\n",
    "img_name_out = []\n",
    "for i in range(len(images_out)):\n",
    "    a = images_out[i]\n",
    "    b = a.split('\\\\')\n",
    "    img_name_out.append(b[-1])"
   ]
  },
  {
   "cell_type": "markdown",
   "metadata": {},
   "source": [
    "# Remove the images of people who wearing the helmet "
   ]
  },
  {
   "cell_type": "code",
   "execution_count": 13,
   "metadata": {},
   "outputs": [
    {
     "data": {
      "text/plain": [
       "[]"
      ]
     },
     "execution_count": 13,
     "metadata": {},
     "output_type": "execute_result"
    }
   ],
   "source": [
    "found = []\n",
    "for i in range(len(img_name)):\n",
    "    if img_name[i] in img_name_out:\n",
    "        found.append(i)\n",
    "found"
   ]
  },
  {
   "cell_type": "code",
   "execution_count": 14,
   "metadata": {},
   "outputs": [],
   "source": [
    "for i in found:\n",
    "    file = all_files[i]\n",
    "    os.remove(file)"
   ]
  }
 ],
 "metadata": {
  "kernelspec": {
   "display_name": "Python 3",
   "language": "python",
   "name": "python3"
  },
  "language_info": {
   "codemirror_mode": {
    "name": "ipython",
    "version": 3
   },
   "file_extension": ".py",
   "mimetype": "text/x-python",
   "name": "python",
   "nbconvert_exporter": "python",
   "pygments_lexer": "ipython3",
   "version": "3.7.6"
  }
 },
 "nbformat": 4,
 "nbformat_minor": 4
}
